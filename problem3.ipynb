{
 "cells": [
  {
   "cell_type": "code",
   "execution_count": null,
   "id": "ea63e9fa-a88f-40cc-9514-4a408ffcce11",
   "metadata": {},
   "outputs": [],
   "source": []
  }
 ],
 "metadata": {
  "kernelspec": {
   "display_name": "",
   "name": ""
  },
  "language_info": {
   "name": ""
  }
 },
 "nbformat": 4,
 "nbformat_minor": 5
}
