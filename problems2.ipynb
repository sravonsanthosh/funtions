{
 "cells": [
  {
   "cell_type": "code",
   "execution_count": 1,
   "id": "d69d6d70-8877-4da6-b5ba-5d472d8036a0",
   "metadata": {},
   "outputs": [
    {
     "name": "stdin",
     "output_type": "stream",
     "text": [
      "Enter a Number 5\n"
     ]
    },
    {
     "name": "stdout",
     "output_type": "stream",
     "text": [
      "The factorial of 5 is 120\n"
     ]
    }
   ],
   "source": [
    "#Write a Python program to find the factorial of a number using a loop.\n",
    "num=int(input(\"Enter a Number\"))\n",
    "f=1\n",
    "if num>1:\n",
    "    for i in range(1,num+1):\n",
    "        f=f*i\n",
    "    print(f'The factorial of {num} is',f)\n",
    "elif num==0:\n",
    "    print(f'The factorial of {num} is',f)\n",
    "else:\n",
    "   print('Please enter a positive number')\n"
   ]
  },
  {
   "cell_type": "code",
   "execution_count": 2,
   "id": "f649e44f-4890-41d4-af8a-7b6f89efec6b",
   "metadata": {},
   "outputs": [
    {
     "name": "stdin",
     "output_type": "stream",
     "text": [
      "Enter a Number 6\n"
     ]
    },
    {
     "data": {
      "text/plain": [
       "('The factorial of 6 is', 720)"
      ]
     },
     "execution_count": 2,
     "metadata": {},
     "output_type": "execute_result"
    }
   ],
   "source": [
    "#Write a Python program to find the factorial of a number using function\n",
    "def factorial(num):\n",
    "    f=1\n",
    "    if num==0:\n",
    "        return f'The factorial of {num} is',f\n",
    "    elif num<1:\n",
    "       return 'Undefined for NEGATIVE number'\n",
    "    else:\n",
    "        for i in range(1,num+1):\n",
    "            f=f*i\n",
    "    return f'The factorial of {num} is',f\n",
    "num=int(input(\"Enter a Number\"))\n",
    "factorial(num)\n"
   ]
  },
  {
   "cell_type": "code",
   "execution_count": 3,
   "id": "2411d414-9506-4c1f-b423-c98b2b88dc78",
   "metadata": {},
   "outputs": [
    {
     "name": "stdin",
     "output_type": "stream",
     "text": [
      "Enter the limit: 10\n"
     ]
    },
    {
     "name": "stdout",
     "output_type": "stream",
     "text": [
      "Fibonacci series upto 10 are [0, 1, 1, 2, 3, 5, 8, 13, 21, 34]\n"
     ]
    }
   ],
   "source": [
    "#Write a Python program to find the fibonacci series\n",
    "def fibonacci(n):\n",
    "    a=0\n",
    "    b=1\n",
    "    l=[a,b]\n",
    "    for i in range(n-2):\n",
    "        s=a+b\n",
    "        l.append(s)\n",
    "        a=b\n",
    "        b=s\n",
    "    return l\n",
    "limit=int(input('Enter the limit:'))\n",
    "print(f'Fibonacci series upto {limit} are',fibonacci(limit))\n"
   ]
  },
  {
   "cell_type": "code",
   "execution_count": 4,
   "id": "40c1b0b9-269f-4791-89bc-0f554846071d",
   "metadata": {},
   "outputs": [
    {
     "name": "stdin",
     "output_type": "stream",
     "text": [
      "Enter a string: SRAVON\n"
     ]
    },
    {
     "name": "stdout",
     "output_type": "stream",
     "text": [
      "The reversed string is NOVARS\n"
     ]
    }
   ],
   "source": [
    "#Write a Python program that takes a string and prints its reverse.\n",
    "def sr(x):\n",
    "    return x[::-1]\n",
    "str=input('Enter a string:')\n",
    "print('The reversed string is',sr(str))"
   ]
  },
  {
   "cell_type": "code",
   "execution_count": 5,
   "id": "ba5e9612-67b2-4fd7-9408-eed57a9761cd",
   "metadata": {},
   "outputs": [
    {
     "name": "stdin",
     "output_type": "stream",
     "text": [
      "Enter a string: my name is\n"
     ]
    },
    {
     "name": "stdout",
     "output_type": "stream",
     "text": [
      "3\n"
     ]
    }
   ],
   "source": [
    "#Write a program to count the number of vowels in a given string.\n",
    "v=['a','e','i','o','u','A','E','I','O','U']\n",
    "vc=0\n",
    "s=input('Enter a string:')\n",
    "for i in s:\n",
    "    if i in v:\n",
    "        vc+=1\n",
    "print(vc)\n",
    "        \n"
   ]
  },
  {
   "cell_type": "code",
   "execution_count": 6,
   "id": "afb0cf7f-77a7-44e0-8db8-7df90fe202fc",
   "metadata": {},
   "outputs": [
    {
     "name": "stdin",
     "output_type": "stream",
     "text": [
      "Enter a word: malayalam\n"
     ]
    },
    {
     "name": "stdout",
     "output_type": "stream",
     "text": [
      "The given word is PALINDROME\n"
     ]
    }
   ],
   "source": [
    "#Write a function that checks if a given string is a palindrome (reads the same backward).\n",
    "def palindrome(x):\n",
    "    if x==x[::-1]:\n",
    "        print('The given word is PALINDROME')\n",
    "    else:\n",
    "        print('The given word is not PALINDROME')\n",
    "word=input('Enter a word:')\n",
    "w=word.lower()\n",
    "palindrome(w)\n"
   ]
  },
  {
   "cell_type": "code",
   "execution_count": 7,
   "id": "9e3732f0-7ef4-4ebf-89dd-03d4d8546f84",
   "metadata": {},
   "outputs": [
    {
     "data": {
      "text/plain": [
       "[15, 30, 45, 60, 75, 90]"
      ]
     },
     "execution_count": 7,
     "metadata": {},
     "output_type": "execute_result"
    }
   ],
   "source": [
    "#Create a list of all numbers from 1 to 100 that are divisible by both 3 and 5 using list comprehension.\n",
    "[n for n in range(1,101) if n%3==0 and n%5==0 ]\n"
   ]
  },
  {
   "cell_type": "code",
   "execution_count": 8,
   "id": "01831dea-db80-4916-8f36-00c3a43dd3af",
   "metadata": {},
   "outputs": [
    {
     "data": {
      "text/plain": [
       "[4, 16, 36, 64, 100, 144, 196, 256, 324, 400]"
      ]
     },
     "execution_count": 8,
     "metadata": {},
     "output_type": "execute_result"
    }
   ],
   "source": [
    "#Write a list comprehension that creates a list of squares of even numbers from 1 to 20.\n",
    "[n**2 for n in range(1,21) if n%2==0]\n"
   ]
  },
  {
   "cell_type": "code",
   "execution_count": 9,
   "id": "8de54ab2-e216-44b0-aa51-dd3d7726c7f0",
   "metadata": {},
   "outputs": [
    {
     "name": "stdin",
     "output_type": "stream",
     "text": [
      "Enter the digit 123\n"
     ]
    },
    {
     "name": "stdout",
     "output_type": "stream",
     "text": [
      "6\n"
     ]
    }
   ],
   "source": [
    "#Take a number and print the sum of its digits.\n",
    "d=input('Enter the digit')\n",
    "s=0\n",
    "for i in d:\n",
    "    s+=int(i)\n",
    "print(s)\n"
   ]
  },
  {
   "cell_type": "code",
   "execution_count": 10,
   "id": "530ddc0b-8ad2-4b8e-8c81-0e62c43077fc",
   "metadata": {},
   "outputs": [
    {
     "name": "stdin",
     "output_type": "stream",
     "text": [
      "Enter the digit 123\n"
     ]
    },
    {
     "name": "stdout",
     "output_type": "stream",
     "text": [
      "Reversed integer: 321\n"
     ]
    }
   ],
   "source": [
    "#Take an integer input and print its reverse.\n",
    "d=input('Enter the digit')\n",
    "reversed=d[::-1]\n",
    "print('Reversed integer:',int(reversed))\n"
   ]
  },
  {
   "cell_type": "code",
   "execution_count": null,
   "id": "1526dd12-5fc5-4a6e-9ae9-5fbe285ba08a",
   "metadata": {},
   "outputs": [],
   "source": []
  }
 ],
 "metadata": {
  "kernelspec": {
   "display_name": "Python [conda env:base] *",
   "language": "python",
   "name": "conda-base-py"
  },
  "language_info": {
   "codemirror_mode": {
    "name": "ipython",
    "version": 3
   },
   "file_extension": ".py",
   "mimetype": "text/x-python",
   "name": "python",
   "nbconvert_exporter": "python",
   "pygments_lexer": "ipython3",
   "version": "3.13.5"
  }
 },
 "nbformat": 4,
 "nbformat_minor": 5
}
